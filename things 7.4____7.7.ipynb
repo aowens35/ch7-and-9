{
 "cells": [
  {
   "cell_type": "code",
   "execution_count": null,
   "metadata": {},
   "outputs": [],
   "source": [
    "things = []\n",
    "cheese = 'mozzarella'\n",
    "person = 'cinderella'\n",
    "disease = 'salmonella'\n",
    "\n",
    "things.append(cheese.upper())\n",
    "things.append(disease)\n",
    "things.append(person.capitalize())\n",
    "\n",
    "things.remove(disease)\n",
    "\n",
    "print(things)"
   ]
  }
 ],
 "metadata": {
  "kernelspec": {
   "display_name": "Python 3.11.0 64-bit",
   "language": "python",
   "name": "python3"
  },
  "language_info": {
   "name": "python",
   "version": "3.11.0"
  },
  "orig_nbformat": 4,
  "vscode": {
   "interpreter": {
    "hash": "83d9dbc64e29d41c50624375b455d24fdefe9aaaa317cb56df0869fc5a67ed2a"
   }
  }
 },
 "nbformat": 4,
 "nbformat_minor": 2
}
